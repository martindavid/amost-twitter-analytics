{
 "cells": [
  {
   "cell_type": "code",
   "execution_count": 1,
   "metadata": {
    "collapsed": true
   },
   "outputs": [],
   "source": [
    "import os\n",
    "import couchdb\n",
    "from lib.genderComputer.genderComputer import GenderComputer"
   ]
  },
  {
   "cell_type": "code",
   "execution_count": 3,
   "metadata": {
    "collapsed": true
   },
   "outputs": [],
   "source": [
    "server = couchdb.Server(url='http://127.0.0.1:15984/')\n",
    "db = server['sa-location']\n",
    "texts = []\n",
    "users = []\n",
    "count = 0"
   ]
  },
  {
   "cell_type": "code",
   "execution_count": 9,
   "metadata": {},
   "outputs": [
    {
     "name": "stdout",
     "output_type": "stream",
     "text": [
      "The House of Food and Wine played host to FIRE 2.0 and was also @melbfoodandwine festival HQ.… https://t.co/0IArJDgEeq\n",
      "We'll hate seeing you without coffee in easter break. Like Potato, get your caffeine fix before… https://t.co/rMakYw11XB\n",
      "You know it's Easter week when the boss is on the bench. @ Clamms Seafood https://t.co/TbV5aKSbKL\n",
      "Oooh there's some Easter goodies up for grabs at JUMP! Cranbourne West 🐥🐰 @ Jump Swim Schools… https://t.co/tVYDQ6YfPY\n",
      "Beer was made by men, wine by God 🍷 @ Yarra Valley Wineries Tour https://t.co/B9DKLcXtmU\n",
      "Cold weather calls for comfort food. Try @hobbaprahran's Reuben. Back as a special with corned… https://t.co/xHucqhacIv\n",
      "It's always Doughnut time!  #donut #krispykreme #food #ドーナツ #yummy #donuts #foodporn #coffee… https://t.co/l1jo5OsuAN\n",
      "That's right ☕️😎 we are open Good Friday until 1pm to fill your belly with coffee and good food!… https://t.co/5jVGKtmQzc\n",
      "&amp;c A quick tour of the Nation's Capital. - Drinking a Pale Ale @ Public Bar &amp; Dining - https://t.co/gMCDH0fWCO\n",
      "THE EASTER BUNNY: Chocolate heaven. How cute is this chocolate bunny? Get him, her, it, and all… https://t.co/GI54Lf9TkF\n",
      "#Chef #HestonBlumenthal's #epic speech on #food, #creativity &amp; #humanity at the 2017… https://t.co/g0WaHL623B\n",
      "Easter bunny made it to Bendigo a bit early #Easter #bunny #eggs… https://t.co/JvW63NW8ck\n",
      "This #burger was #delicious at @sporting_globe #food #lunch #instafood #instagood #instadaily… https://t.co/gDVFM5cDLX\n",
      "Spots are still available for tomorrow's program. The day features a Giant #Easter Egg Hunt,… https://t.co/yXfbOFkjqB\n",
      "Our big boss 'Mother Hen' all dressed in blue and ready to lay #chocolate #easter #eggs… https://t.co/u8qOPqlnpz\n",
      "After mastering the BBQ in our Beer &amp; BBQ class here at\n",
      "#bbqschool it's time to tackle the clean… https://t.co/x03CIipWs8\n",
      "“Beer is made by men, wine by God.” ― Martin Luther, circa 1500s #wine #australia #australiagram… https://t.co/24lubEBoby\n",
      "The Rabbit Hole 🐰 Hamper a perfect gift for the Man in your life! #mangift #beerhamper #beer… https://t.co/AlWXn8cUpN\n",
      "We've made it easy and put together the best Easter gift money can buy. All MoccaMaster colours… https://t.co/TF3WITxS7Z\n",
      "Resurrecting more than just Jesus this Easter. Link in bio @ Yah Yah's https://t.co/qlCyEhDaBa\n",
      "Monday night #beeroclock Cheers. - Drinking an 28 Pale Ale by @burleighbrewing @ The Ice Bucket  — https://t.co/iZY8H01dkG #photo\n",
      "Drinking an Inhaler by @MagicRockBrewCo @ National Asthma Council Australia — https://t.co/5SyHk609PA #photo\n",
      "From the #BrightMash box #beeroclock #HCBT #drinklocal - Drinking a Hellfire Amber @ The Ice Bucket - https://t.co/EIX0jWA362 #photo\n",
      "Pasties pasties pasties! It must be Easter week. #awardwinningpies #heathcote #seymour… https://t.co/potlNU9iT3\n",
      "Drinking a Puppet Master ThaIPA by @stockadebrewco @ Eureka Rebellion Trading — https://t.co/uCE6Uwvjzw #photo\n",
      "Another #beeroclock #BrightMash #HCBT #drinklocal Cheers. - Drinking a Hellfire Amber @ The Ice Bucket - https://t.co/HYP5LZjDhB #photo\n",
      "Drinking a Carlton Draught by Carlton &amp; United Breweries @ The Rye Pier Restaurant &amp; Bar — https://t.co/ETM9Ptb0lx\n",
      "Drinking an Axe Edge by @BuxtonBrewery at @royalmelbshow — https://t.co/zw7v1azfMs #photo\n",
      "🎼I just tried to play La La Land Mia&amp;Sebastian's Theme 🎶🎵🎶 #lalaland #music #piano @ La La Land https://t.co/DRTEftoR1A\n",
      "Such is life ! - Drinking a Dark Harvest (2016) by @NakedNed/@MikkellerBeer @ Old Melbourne Gaol  — https://t.co/bKZ9n0Ta3I #photo\n",
      "Delicious tin. #beeroclock #tinnytime Cheers for the glass Joel B.... (Pale Ale) https://t.co/VpwX7a2AeS #photo\n",
      "Easter Holiday Program and day 6, Hot Cross Buns &amp; Stuffed Chicken thigh with Bocconcini &amp;… https://t.co/iWJgezJpXT\n",
      "Hello winter, hello hearty food ... coming home after Pilates to… https://t.co/lTiTumXFBI\n",
      "Drinking an Electrolyte Serum by @DRsOrdersBrewin @ Point Cook Medical Centre — https://t.co/2ur0yCGSIi #photo\n",
      "Filling the pint. #beeroclock #tinnytime Joel B. Cheers. - Drinking a Pale Ale @ The Ice Bucket - https://t.co/YHicMXom4Z #photo\n",
      "The Easter bunny was exhausted after preparing for next weekend. He's now fallen asleep until… https://t.co/8E9ZLjiIxQ\n",
      "Come and find us at the Melbourne Easter Show, you would not want to miss this event, plan your… https://t.co/uZarBoCD5V\n",
      "Anniversary lunch. Feeling under the weather so hubby gets to enjoy the food @ Port Phillip Estate https://t.co/1DNOe9comf\n",
      "Hello darkness, my old friend. - Drinking a Boris by @FeralBrewing @ Carnegie  — https://t.co/riddzUd0I9\n",
      "We have had amazing food in Canberra, capped off tonight with dinner @courgetteresta1 #canberra… https://t.co/K5t9Q7NwVN\n",
      "Drinking a Centennial IPA by @akashabrew @ Bicentennial Park — https://t.co/DMI7HTXFxa #photo\n",
      "Traditional Easter dinner at the pub! Now home to the tent... @ Shamrock Hotel https://t.co/gsr5ZD5x7m\n",
      "It's your last chance to sign up for tomorrow's ONE OFF EASTER PROGRAM! Send the kids along fir… https://t.co/KqfXaMswEM\n",
      "Drinking a Brown by @mpbrew @ RAAF Williams Golf Course — https://t.co/u7Fr18Se1M #photo\n",
      "Tasting delish. #beeroclock #tinnytime Cheers Joel B. - Drinking a Pale Ale @ The Ice Bucket - https://t.co/r0FOeR5cry #photo\n",
      "#pitchfestival2017 #doof @ Pitch Music &amp; Arts https://t.co/ELrAEcSiA2\n",
      "Love, love, love this beer. #beeroclock Cheers. - Drinking a Pineapple Sculpin @ The Ice Bucket - https://t.co/0DQLSreY92 #photo\n",
      "Still time to call out and grab some Easter 🎁 with a difference.\n",
      "Easter trading CLOSED Good… https://t.co/zf2Z9kQuPk\n",
      "Melbourne Food Scene is Unreal.. Vancouver you are soo  behind!!😍😍 #foodie #melbourne #duckbao… https://t.co/NK4g3tyEmr\n",
      "beyond 30 June https://t.co/CvNaOQT03H\n",
      "brendanlindsaywebb aka baddums back in town for easter innit @ section8 + Danish special… https://t.co/ju1HPvMMsr\n",
      "Nightcap &amp; damn delicious #beeroclock Chee... (Kentucky Breakfast Stout (KBS) (2016) 12.4%) https://t.co/ZonJ8ayrmb #photo\n",
      "Dominos beats Pizza Hut in straya. \n",
      "#foodstagram #food #foods #foodie #foodies #foodism… https://t.co/2Po5EBBJcn\n",
      "Marvel Entertainment, @marvel is now trending in #Melbourne\n",
      "\n",
      "https://t.co/ixrTRgtffH https://t.co/Pf9oF1plVj\n",
      "You know the food must be good when even the youngest of critics devour their pizza without… https://t.co/MHE4VX1hMg\n",
      "I see you there Easter long weekend! Working off Easter eggs and hot cross buns in the most fun… https://t.co/CoVihHRjqh\n",
      "We have an assortment of Easter treats in the shop this week, don't miss out xo @ Alice Nivens https://t.co/bFI2FwFq1H\n",
      "Actually yesterday not an 8AM heart starter! - Drinking an Alhambra Reserva 1925 @ Wallington - https://t.co/BWbINxEZgL\n",
      "We're #hiring! Click to apply: Health &amp; Public Service - Organisation Change Management - Consultant - https://t.co/dkYDmCgpQ0 #Consulting\n",
      "DID YOU KNOW.. that #EduHealth deliver health education workshops and seminars to children,… https://t.co/48VEGpTCKY\n",
      "Barton Estate ticked all the boxes! \n",
      "Art, Music by the very talented young Nama,  Bob and Julie,… https://t.co/tYGnBS9KOr\n",
      "I'm at Pinnacle Health Group | Physio Docklands in Melbourne, Victoria https://t.co/BDuvbKpZgD\n",
      "That's right folks . Business as usual.  Open all weekend. Come celebrate Easter with us.… https://t.co/g7K0ZbkV9T\n",
      "#Carpool #Balaclava -&gt; #MoretonIslandBrisbaneCity rideshare split costs share coffee share music share food https://t.co/w1PJDLFjXY\n",
      "Ready to go with today's Easter egg course @pialligoestate. 6 beautiful #valrhona chocolates… https://t.co/rzz3nsmjFf\n",
      "The cutest little shop 🍩💞 #doughnut #time #donuts #cute #shop #food #nomnom #melbourne… https://t.co/UPElm3Kr0F\n",
      "We are looking forward to a fun filled Easter long weekend at Basils Farm! We open again… https://t.co/2wXdmPIaCm\n",
      "Polly is open all weekend, and we have all your cocktail needs covered this Easter. \n",
      "#easter… https://t.co/t6W4sHWerq\n",
      "Jesus getting I shape for Easter @ Foundry Gym Hallam https://t.co/c2ADJfxnkm\n",
      "Feeling like a Shakoy (twisted Filipino donut) this morning! Not sure where food_rehab got it… https://t.co/a0KZdNqZbL\n",
      "Hot cross Buns! #easter  #hotcrossbuns #freshlybaked #omnomnom @ Edible Emporium https://t.co/WjgBAoET0a\n",
      "It's Easter week and we'll be closed on Friday! If you're looking for a quick Easter gift this… https://t.co/KTsaUwycJY\n",
      "We've got you covered this Easter #seafood #seafoodlunch #greatfood #goodfriday #easterlunch… https://t.co/4FUy4bXtOY\n",
      "Coffee, hot cross bun AND a chocolate Easter Egg at COFFEE HOUSE 138 in MAFFRA.   ~~~~~~. When… https://t.co/WScI9ynpOZ\n",
      "Ocean Bounty products made with ❤️ by Chief and tynanator. Unique offer @vicmarket this Easter.… https://t.co/3yExjV2Yph\n",
      "#Easter lunch fully booked!\n",
      "Dinner still available #ziasgotyoucovered  #Easter2017 Menu on line… https://t.co/WMiEYiYfOC\n",
      "Almost Easter weekend.. 😭😂🍭\n",
      "#futsal #easteregg #lovethegame @ Futsal Oz - Mt. Evelyn https://t.co/lGLKYUoeW6\n",
      "Easter is almost here and to celebrate we love this egg shaped offering of Golden, white and… https://t.co/AOsgoXVbnj\n",
      "View from an Esky #pitchfestival2017 #doof #festival #eskyviews @ Pitch Music &amp; Arts https://t.co/Hi5mrcmTdT\n",
      "Every Bunny loves Lindt Chocolate at Easter and its even tastier when lindtcafesandshops are… https://t.co/xuR0pUocTz\n",
      "Happy Easter, Melbourne. We're popping back up at Westfield Southland from tomorrow till Monday… https://t.co/lHSNBozLFx\n",
      "🐰Easter Creation 🐰#shegothappy #lindt #kitkat #mnms #chocolatecake #happiness #happier #happy… https://t.co/2fGgy0L5vF\n",
      "Low cost fuel in Bairnsdale ~ wonder what the price will be by the end of the week?  #Easter… https://t.co/Kdt38quYoN\n",
      "Music school #midcentury @ South Yarra, Victoria, Australia https://t.co/5WEnQ5wiLc\n",
      "I'm not really one for food photography, but the Golden Gaytime waffles at Fourth Chapter were… https://t.co/GFuNo35WXl\n",
      "Flat Eggs are being made daily to keep up with demand #don'tmissout #chocolate #Easter #bunny… https://t.co/2lvGpMrz2f\n",
      "🤳🏻 (@ Kaya Health Club in Melbourne, VIC) https://t.co/jBhsiJeJ6I\n",
      "We will be taking a long weekend of our own this Easter break but will be back on Easter Monday… https://t.co/U9C9Z2M9K4\n",
      "Don't forget we'll be open each day of the Easter long weekend. Armstrong St that is!… https://t.co/1HOGjGCGzj\n",
      "&amp;b this is a very tasty beer. #sirvezabeer - Drinking a Pale Ale by Sir Veza @ Fonda Mexican  — https://t.co/ptTjTQPRl3 #photo\n",
      "Easter egg hunt at #thedojobraeside  on Sat 15th April 2pm for all students.. Spread the word… https://t.co/YppDzS4MAS\n",
      "Autumn backyard harvest - after! Thanks for the recipe @maggie_beer 👍                #12tarts… https://t.co/wU2FCIHMsf\n",
      "Folks, I have teamed up with lilihue to write up about a few favourite spots for Vietnamese food… https://t.co/MBeWcjriRx\n",
      "&amp;b solid beer accompaniment to a tasty and zingy quesadilla. @fondamexi... (Sir Veza Lager) https://t.co/8t44CCu4mE #photo\n",
      "So happy right now!! In Melbourne eating Greek food, having some awesome meetings and getting… https://t.co/SElmtrfN0o\n",
      "This little bird is ready for Easter her nest is full of eggs. Can you spot the price pair of… https://t.co/cEVDaqb20R\n",
      "patrice_baumel 👌🏻 do you ever feel that you just can't squeeze all the music that you want to… https://t.co/nBcktuLYOI\n",
      "White grape, pineapple and dank diesel. Guessing mosaic and NS? Strong bitter... (Tusk (April 17)) https://t.co/KG4cvpxYYO\n",
      "Pleasant stonefruit over an easy-drinkin' light farmhou... (Trinity One - Nectarine Farmhouse Ale) https://t.co/geRx97W3RL\n",
      "#lunch at new #local today! #StraightSix #burgers #slaw #tasty #yum #greatburger #food #cafe… https://t.co/8OO6olHfMy\n"
     ]
    }
   ],
   "source": [
    "for row in db.view('_design/analytics/_view/tweet-text', limit=100):\n",
    "    print(row.value)"
   ]
  },
  {
   "cell_type": "code",
   "execution_count": null,
   "metadata": {
    "collapsed": true
   },
   "outputs": [],
   "source": []
  }
 ],
 "metadata": {
  "kernelspec": {
   "display_name": "Python 2",
   "language": "python",
   "name": "python2"
  },
  "language_info": {
   "codemirror_mode": {
    "name": "ipython",
    "version": 2
   },
   "file_extension": ".py",
   "mimetype": "text/x-python",
   "name": "python",
   "nbconvert_exporter": "python",
   "pygments_lexer": "ipython2",
   "version": "2.7.12"
  }
 },
 "nbformat": 4,
 "nbformat_minor": 2
}
